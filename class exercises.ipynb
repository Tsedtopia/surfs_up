{
 "cells": [
  {
   "cell_type": "code",
   "execution_count": 18,
   "metadata": {},
   "outputs": [],
   "source": [
    "#7. flatten list of lists.\n",
    "#l = [[“A”],[“A”,“B”],[“A”,“C”],[“B”,“D”],[“C”,“A”]]"
   ]
  },
  {
   "cell_type": "code",
   "execution_count": 19,
   "metadata": {},
   "outputs": [],
   "source": [
    "#flatten = []\n",
    "#    for letters in l:\n",
    "#        if isinstance(letters.Iterable) and not isinstance(letters):\n",
    "#            for sub in flatten(letters):\n",
    "#                yield sub\n",
    "#        else:\n",
    " #           yield letters"
   ]
  },
  {
   "cell_type": "code",
   "execution_count": 20,
   "metadata": {},
   "outputs": [],
   "source": [
    "#['A', 'A', 'B', 'A', 'C', 'B', 'D', 'C', 'A']"
   ]
  },
  {
   "cell_type": "code",
   "execution_count": 22,
   "metadata": {},
   "outputs": [],
   "source": [
    "#1.find avg word length in a sentence\n",
    "string = \"Hi my Name is Nick and I love my cat.\"\n",
    "def avg_word_length(string):\n",
    "    print(sentence.split())"
   ]
  },
  {
   "cell_type": "code",
   "execution_count": 30,
   "metadata": {},
   "outputs": [
    {
     "data": {
      "text/plain": [
       "2.7"
      ]
     },
     "execution_count": 30,
     "metadata": {},
     "output_type": "execute_result"
    }
   ],
   "source": [
    ">>> sentence = \"Hi my Name is Nick and I love my cat.\"\n",
    ">>> words = sentence.split()\n",
    ">>> average = sum(len(word.strip('.')) for word in words) / len(words)\n",
    ">>> average"
   ]
  },
  {
   "cell_type": "code",
   "execution_count": 27,
   "metadata": {},
   "outputs": [],
   "source": [
    "#1.find avg word length in a sentence\n",
    "string = \"Hi my Name is Nick and I love my cat.\"\n",
    "def avg_word_length(string):\n",
    "    word = s.split()\n",
    "    print (words)"
   ]
  }
 ],
 "metadata": {
  "kernelspec": {
   "display_name": "Python 3",
   "language": "python",
   "name": "python3"
  },
  "language_info": {
   "codemirror_mode": {
    "name": "ipython",
    "version": 3
   },
   "file_extension": ".py",
   "mimetype": "text/x-python",
   "name": "python",
   "nbconvert_exporter": "python",
   "pygments_lexer": "ipython3",
   "version": "3.8.5"
  }
 },
 "nbformat": 4,
 "nbformat_minor": 4
}
